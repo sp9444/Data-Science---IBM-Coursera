{
 "cells": [
  {
   "cell_type": "markdown",
   "id": "f970a4a1-cf75-4ba1-b107-db5967e60653",
   "metadata": {},
   "source": [
    "# Data Science Tools and Ecosystem"
   ]
  },
  {
   "cell_type": "markdown",
   "id": "0afe7c27-0907-478e-9840-2b34a4356c90",
   "metadata": {},
   "source": [
    "In this notebook, Data Science Tools and Ecosystem are summarized."
   ]
  },
  {
   "cell_type": "markdown",
   "id": "a9fb9470-7f8d-4b81-ac63-27305a4135ee",
   "metadata": {},
   "source": [
    "Objectives:\n",
    "- List popular languages for Data Science\n",
    "- List popular libraries for Data Science\n",
    "- Arithmetic expressionQ\n",
    "\n",
    "## Author\n",
    "Sarah"
   ]
  },
  {
   "cell_type": "markdown",
   "id": "def95f0d-b881-4268-ae00-e0c485202682",
   "metadata": {},
   "source": [
    "Some of the popular languages that Data Scientists use are:\r",
    "1. Python\n",
    "2. R\n",
    "3. SQL\n",
    "\n",
    "Some of the commonly used libraries used by Data Scientists include:\r",
    "1. pandas\n",
    "2. Matplotlib\n",
    "3. Seaborn\n",
    "\n"
   ]
  },
  {
   "cell_type": "markdown",
   "id": "6533d1bc-a21e-4e68-b51b-35d585ee1cbd",
   "metadata": {},
   "source": [
    "\n",
    "| Data Science Tools |\n",
    "| --- |\n",
    "| Jupyter Notebookhed\n",
    "| --- |\n",
    "| RStudio |\n",
    "| --- |\n",
    "| Appache |\n",
    "\n",
    "\n",
    "### Below are a few examples of evaluating arithmetic expressions in Python.\n",
    "3 |"
   ]
  },
  {
   "cell_type": "code",
   "execution_count": 1,
   "id": "cb1c49b0-8cd5-4951-916f-5312dbd32e37",
   "metadata": {},
   "outputs": [
    {
     "data": {
      "text/plain": [
       "17"
      ]
     },
     "execution_count": 1,
     "metadata": {},
     "output_type": "execute_result"
    }
   ],
   "source": [
    "(3*4)+5\n",
    "### This a simple arithmetic expression to mutiply then add integers"
   ]
  },
  {
   "cell_type": "code",
   "execution_count": 2,
   "id": "a4cfecad-7ee3-45e4-9e27-d2bed06db67e",
   "metadata": {},
   "outputs": [
    {
     "data": {
      "text/plain": [
       "3.3333333333333335"
      ]
     },
     "execution_count": 2,
     "metadata": {},
     "output_type": "execute_result"
    }
   ],
   "source": [
    "### This will convert 200 minutes to hours by diving by 60.\n",
    "200/60"
   ]
  },
  {
   "cell_type": "code",
   "execution_count": null,
   "id": "eb660807-1376-4acb-a606-6c8f2b8a1806",
   "metadata": {},
   "outputs": [],
   "source": []
  },
  {
   "cell_type": "code",
   "execution_count": null,
   "id": "a2e074fc-d8c8-4788-84fb-f7ea0cc892cf",
   "metadata": {},
   "outputs": [],
   "source": []
  }
 ],
 "metadata": {
  "kernelspec": {
   "display_name": "Python 3 (ipykernel)",
   "language": "python",
   "name": "python3"
  },
  "language_info": {
   "codemirror_mode": {
    "name": "ipython",
    "version": 3
   },
   "file_extension": ".py",
   "mimetype": "text/x-python",
   "name": "python",
   "nbconvert_exporter": "python",
   "pygments_lexer": "ipython3",
   "version": "3.12.2"
  }
 },
 "nbformat": 4,
 "nbformat_minor": 5
}
